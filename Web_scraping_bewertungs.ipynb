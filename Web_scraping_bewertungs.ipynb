{
 "cells": [
  {
   "cell_type": "code",
   "execution_count": null,
   "metadata": {},
   "outputs": [],
   "source": [
    "import requests\n",
    "from bs4 import BeautifulSoup"
   ]
  },
  {
   "cell_type": "code",
   "execution_count": null,
   "metadata": {},
   "outputs": [],
   "source": [
    "import pandas as pd\n",
    "import numpy as np\n",
    "import matplotlib.pyplot as plt\n",
    "import seaborn as sns\n",
    "%matplotlib inline"
   ]
  },
  {
   "cell_type": "code",
   "execution_count": null,
   "metadata": {},
   "outputs": [],
   "source": [
    "from urllib.request import urlopen"
   ]
  },
  {
   "cell_type": "code",
   "execution_count": null,
   "metadata": {},
   "outputs": [],
   "source": [
    "url = \"https://www.trustedshops.de/bewertung/info_XED43E1EC0350EDBB2CC5AE5060085A59.html\"\n",
    "html = urlopen(url)"
   ]
  },
  {
   "cell_type": "code",
   "execution_count": null,
   "metadata": {},
   "outputs": [
    {
     "data": {
      "text/plain": [
       "bs4.BeautifulSoup"
      ]
     },
     "execution_count": 9,
     "metadata": {},
     "output_type": "execute_result"
    }
   ],
   "source": [
    "soup = BeautifulSoup(html, 'lxml')\n",
    "type(soup)"
   ]
  },
  {
   "cell_type": "code",
   "execution_count": null,
   "metadata": {},
   "outputs": [],
   "source": [
    "r = requests.get(url)"
   ]
  },
  {
   "cell_type": "code",
   "execution_count": null,
   "metadata": {},
   "outputs": [
    {
     "name": "stdout",
     "output_type": "stream",
     "text": [
      "200\n"
     ]
    }
   ],
   "source": [
    "print (r.status_code)"
   ]
  },
  {
   "cell_type": "code",
   "execution_count": null,
   "metadata": {},
   "outputs": [
    {
     "name": "stdout",
     "output_type": "stream",
     "text": [
      "https://www.trustedshops.de/bewertung/info_XED43E1EC0350EDBB2CC5AE5060085A59.html?page=1\n",
      "https://www.trustedshops.de/bewertung/info_XED43E1EC0350EDBB2CC5AE5060085A59.html?page=2\n",
      "https://www.trustedshops.de/bewertung/info_XED43E1EC0350EDBB2CC5AE5060085A59.html?page=3\n",
      "https://www.trustedshops.de/bewertung/info_XED43E1EC0350EDBB2CC5AE5060085A59.html?page=4\n",
      "https://www.trustedshops.de/bewertung/info_XED43E1EC0350EDBB2CC5AE5060085A59.html?page=5\n",
      "https://www.trustedshops.de/bewertung/info_XED43E1EC0350EDBB2CC5AE5060085A59.html?page=6\n",
      "https://www.trustedshops.de/bewertung/info_XED43E1EC0350EDBB2CC5AE5060085A59.html?page=7\n",
      "https://www.trustedshops.de/bewertung/info_XED43E1EC0350EDBB2CC5AE5060085A59.html?page=8\n",
      "https://www.trustedshops.de/bewertung/info_XED43E1EC0350EDBB2CC5AE5060085A59.html?page=9\n",
      "https://www.trustedshops.de/bewertung/info_XED43E1EC0350EDBB2CC5AE5060085A59.html?page=10\n",
      "https://www.trustedshops.de/bewertung/info_XED43E1EC0350EDBB2CC5AE5060085A59.html?page=11\n",
      "https://www.trustedshops.de/bewertung/info_XED43E1EC0350EDBB2CC5AE5060085A59.html?page=12\n",
      "https://www.trustedshops.de/bewertung/info_XED43E1EC0350EDBB2CC5AE5060085A59.html?page=13\n",
      "https://www.trustedshops.de/bewertung/info_XED43E1EC0350EDBB2CC5AE5060085A59.html?page=14\n",
      "https://www.trustedshops.de/bewertung/info_XED43E1EC0350EDBB2CC5AE5060085A59.html?page=15\n",
      "https://www.trustedshops.de/bewertung/info_XED43E1EC0350EDBB2CC5AE5060085A59.html?page=16\n",
      "https://www.trustedshops.de/bewertung/info_XED43E1EC0350EDBB2CC5AE5060085A59.html?page=17\n",
      "https://www.trustedshops.de/bewertung/info_XED43E1EC0350EDBB2CC5AE5060085A59.html?page=18\n",
      "https://www.trustedshops.de/bewertung/info_XED43E1EC0350EDBB2CC5AE5060085A59.html?page=19\n",
      "https://www.trustedshops.de/bewertung/info_XED43E1EC0350EDBB2CC5AE5060085A59.html?page=20\n",
      "https://www.trustedshops.de/bewertung/info_XED43E1EC0350EDBB2CC5AE5060085A59.html?page=21\n",
      "https://www.trustedshops.de/bewertung/info_XED43E1EC0350EDBB2CC5AE5060085A59.html?page=22\n",
      "https://www.trustedshops.de/bewertung/info_XED43E1EC0350EDBB2CC5AE5060085A59.html?page=23\n",
      "https://www.trustedshops.de/bewertung/info_XED43E1EC0350EDBB2CC5AE5060085A59.html?page=24\n",
      "https://www.trustedshops.de/bewertung/info_XED43E1EC0350EDBB2CC5AE5060085A59.html?page=25\n",
      "https://www.trustedshops.de/bewertung/info_XED43E1EC0350EDBB2CC5AE5060085A59.html?page=26\n",
      "https://www.trustedshops.de/bewertung/info_XED43E1EC0350EDBB2CC5AE5060085A59.html?page=27\n",
      "https://www.trustedshops.de/bewertung/info_XED43E1EC0350EDBB2CC5AE5060085A59.html?page=28\n",
      "https://www.trustedshops.de/bewertung/info_XED43E1EC0350EDBB2CC5AE5060085A59.html?page=29\n",
      "https://www.trustedshops.de/bewertung/info_XED43E1EC0350EDBB2CC5AE5060085A59.html?page=30\n",
      "https://www.trustedshops.de/bewertung/info_XED43E1EC0350EDBB2CC5AE5060085A59.html?page=31\n",
      "https://www.trustedshops.de/bewertung/info_XED43E1EC0350EDBB2CC5AE5060085A59.html?page=32\n",
      "https://www.trustedshops.de/bewertung/info_XED43E1EC0350EDBB2CC5AE5060085A59.html?page=33\n",
      "https://www.trustedshops.de/bewertung/info_XED43E1EC0350EDBB2CC5AE5060085A59.html?page=34\n",
      "https://www.trustedshops.de/bewertung/info_XED43E1EC0350EDBB2CC5AE5060085A59.html?page=35\n",
      "https://www.trustedshops.de/bewertung/info_XED43E1EC0350EDBB2CC5AE5060085A59.html?page=36\n",
      "https://www.trustedshops.de/bewertung/info_XED43E1EC0350EDBB2CC5AE5060085A59.html?page=37\n",
      "https://www.trustedshops.de/bewertung/info_XED43E1EC0350EDBB2CC5AE5060085A59.html?page=38\n",
      "https://www.trustedshops.de/bewertung/info_XED43E1EC0350EDBB2CC5AE5060085A59.html?page=39\n",
      "https://www.trustedshops.de/bewertung/info_XED43E1EC0350EDBB2CC5AE5060085A59.html?page=40\n",
      "https://www.trustedshops.de/bewertung/info_XED43E1EC0350EDBB2CC5AE5060085A59.html?page=41\n",
      "https://www.trustedshops.de/bewertung/info_XED43E1EC0350EDBB2CC5AE5060085A59.html?page=42\n",
      "https://www.trustedshops.de/bewertung/info_XED43E1EC0350EDBB2CC5AE5060085A59.html?page=43\n",
      "https://www.trustedshops.de/bewertung/info_XED43E1EC0350EDBB2CC5AE5060085A59.html?page=44\n",
      "https://www.trustedshops.de/bewertung/info_XED43E1EC0350EDBB2CC5AE5060085A59.html?page=45\n",
      "https://www.trustedshops.de/bewertung/info_XED43E1EC0350EDBB2CC5AE5060085A59.html?page=46\n",
      "https://www.trustedshops.de/bewertung/info_XED43E1EC0350EDBB2CC5AE5060085A59.html?page=47\n",
      "https://www.trustedshops.de/bewertung/info_XED43E1EC0350EDBB2CC5AE5060085A59.html?page=48\n",
      "https://www.trustedshops.de/bewertung/info_XED43E1EC0350EDBB2CC5AE5060085A59.html?page=49\n",
      "https://www.trustedshops.de/bewertung/info_XED43E1EC0350EDBB2CC5AE5060085A59.html?page=50\n",
      "https://www.trustedshops.de/bewertung/info_XED43E1EC0350EDBB2CC5AE5060085A59.html?page=51\n",
      "https://www.trustedshops.de/bewertung/info_XED43E1EC0350EDBB2CC5AE5060085A59.html?page=52\n",
      "https://www.trustedshops.de/bewertung/info_XED43E1EC0350EDBB2CC5AE5060085A59.html?page=53\n",
      "https://www.trustedshops.de/bewertung/info_XED43E1EC0350EDBB2CC5AE5060085A59.html?page=54\n",
      "https://www.trustedshops.de/bewertung/info_XED43E1EC0350EDBB2CC5AE5060085A59.html?page=55\n",
      "https://www.trustedshops.de/bewertung/info_XED43E1EC0350EDBB2CC5AE5060085A59.html?page=56\n",
      "https://www.trustedshops.de/bewertung/info_XED43E1EC0350EDBB2CC5AE5060085A59.html?page=57\n",
      "https://www.trustedshops.de/bewertung/info_XED43E1EC0350EDBB2CC5AE5060085A59.html?page=58\n",
      "https://www.trustedshops.de/bewertung/info_XED43E1EC0350EDBB2CC5AE5060085A59.html?page=59\n",
      "https://www.trustedshops.de/bewertung/info_XED43E1EC0350EDBB2CC5AE5060085A59.html?page=60\n",
      "https://www.trustedshops.de/bewertung/info_XED43E1EC0350EDBB2CC5AE5060085A59.html?page=61\n",
      "https://www.trustedshops.de/bewertung/info_XED43E1EC0350EDBB2CC5AE5060085A59.html?page=62\n",
      "https://www.trustedshops.de/bewertung/info_XED43E1EC0350EDBB2CC5AE5060085A59.html?page=63\n",
      "https://www.trustedshops.de/bewertung/info_XED43E1EC0350EDBB2CC5AE5060085A59.html?page=64\n",
      "https://www.trustedshops.de/bewertung/info_XED43E1EC0350EDBB2CC5AE5060085A59.html?page=65\n",
      "https://www.trustedshops.de/bewertung/info_XED43E1EC0350EDBB2CC5AE5060085A59.html?page=66\n",
      "https://www.trustedshops.de/bewertung/info_XED43E1EC0350EDBB2CC5AE5060085A59.html?page=67\n",
      "https://www.trustedshops.de/bewertung/info_XED43E1EC0350EDBB2CC5AE5060085A59.html?page=68\n",
      "https://www.trustedshops.de/bewertung/info_XED43E1EC0350EDBB2CC5AE5060085A59.html?page=69\n",
      "https://www.trustedshops.de/bewertung/info_XED43E1EC0350EDBB2CC5AE5060085A59.html?page=70\n",
      "https://www.trustedshops.de/bewertung/info_XED43E1EC0350EDBB2CC5AE5060085A59.html?page=71\n",
      "https://www.trustedshops.de/bewertung/info_XED43E1EC0350EDBB2CC5AE5060085A59.html?page=72\n",
      "https://www.trustedshops.de/bewertung/info_XED43E1EC0350EDBB2CC5AE5060085A59.html?page=73\n",
      "https://www.trustedshops.de/bewertung/info_XED43E1EC0350EDBB2CC5AE5060085A59.html?page=74\n",
      "https://www.trustedshops.de/bewertung/info_XED43E1EC0350EDBB2CC5AE5060085A59.html?page=75\n",
      "https://www.trustedshops.de/bewertung/info_XED43E1EC0350EDBB2CC5AE5060085A59.html?page=76\n",
      "https://www.trustedshops.de/bewertung/info_XED43E1EC0350EDBB2CC5AE5060085A59.html?page=77\n",
      "https://www.trustedshops.de/bewertung/info_XED43E1EC0350EDBB2CC5AE5060085A59.html?page=78\n",
      "https://www.trustedshops.de/bewertung/info_XED43E1EC0350EDBB2CC5AE5060085A59.html?page=79\n",
      "https://www.trustedshops.de/bewertung/info_XED43E1EC0350EDBB2CC5AE5060085A59.html?page=80\n",
      "https://www.trustedshops.de/bewertung/info_XED43E1EC0350EDBB2CC5AE5060085A59.html?page=81\n",
      "https://www.trustedshops.de/bewertung/info_XED43E1EC0350EDBB2CC5AE5060085A59.html?page=82\n",
      "https://www.trustedshops.de/bewertung/info_XED43E1EC0350EDBB2CC5AE5060085A59.html?page=83\n",
      "https://www.trustedshops.de/bewertung/info_XED43E1EC0350EDBB2CC5AE5060085A59.html?page=84\n",
      "https://www.trustedshops.de/bewertung/info_XED43E1EC0350EDBB2CC5AE5060085A59.html?page=85\n",
      "https://www.trustedshops.de/bewertung/info_XED43E1EC0350EDBB2CC5AE5060085A59.html?page=86\n",
      "https://www.trustedshops.de/bewertung/info_XED43E1EC0350EDBB2CC5AE5060085A59.html?page=87\n",
      "https://www.trustedshops.de/bewertung/info_XED43E1EC0350EDBB2CC5AE5060085A59.html?page=88\n",
      "https://www.trustedshops.de/bewertung/info_XED43E1EC0350EDBB2CC5AE5060085A59.html?page=89\n",
      "https://www.trustedshops.de/bewertung/info_XED43E1EC0350EDBB2CC5AE5060085A59.html?page=90\n",
      "https://www.trustedshops.de/bewertung/info_XED43E1EC0350EDBB2CC5AE5060085A59.html?page=91\n",
      "https://www.trustedshops.de/bewertung/info_XED43E1EC0350EDBB2CC5AE5060085A59.html?page=92\n",
      "https://www.trustedshops.de/bewertung/info_XED43E1EC0350EDBB2CC5AE5060085A59.html?page=93\n",
      "https://www.trustedshops.de/bewertung/info_XED43E1EC0350EDBB2CC5AE5060085A59.html?page=94\n",
      "https://www.trustedshops.de/bewertung/info_XED43E1EC0350EDBB2CC5AE5060085A59.html?page=95\n",
      "https://www.trustedshops.de/bewertung/info_XED43E1EC0350EDBB2CC5AE5060085A59.html?page=96\n",
      "https://www.trustedshops.de/bewertung/info_XED43E1EC0350EDBB2CC5AE5060085A59.html?page=97\n",
      "https://www.trustedshops.de/bewertung/info_XED43E1EC0350EDBB2CC5AE5060085A59.html?page=98\n",
      "https://www.trustedshops.de/bewertung/info_XED43E1EC0350EDBB2CC5AE5060085A59.html?page=99\n",
      "https://www.trustedshops.de/bewertung/info_XED43E1EC0350EDBB2CC5AE5060085A59.html?page=100\n",
      "https://www.trustedshops.de/bewertung/info_XED43E1EC0350EDBB2CC5AE5060085A59.html?page=101\n",
      "https://www.trustedshops.de/bewertung/info_XED43E1EC0350EDBB2CC5AE5060085A59.html?page=102\n",
      "https://www.trustedshops.de/bewertung/info_XED43E1EC0350EDBB2CC5AE5060085A59.html?page=103\n",
      "https://www.trustedshops.de/bewertung/info_XED43E1EC0350EDBB2CC5AE5060085A59.html?page=104\n"
     ]
    },
    {
     "data": {
      "text/plain": [
       "['https://www.trustedshops.de/bewertung/info_XED43E1EC0350EDBB2CC5AE5060085A59.html?page=1',\n",
       " 'https://www.trustedshops.de/bewertung/info_XED43E1EC0350EDBB2CC5AE5060085A59.html?page=2',\n",
       " 'https://www.trustedshops.de/bewertung/info_XED43E1EC0350EDBB2CC5AE5060085A59.html?page=3',\n",
       " 'https://www.trustedshops.de/bewertung/info_XED43E1EC0350EDBB2CC5AE5060085A59.html?page=4',\n",
       " 'https://www.trustedshops.de/bewertung/info_XED43E1EC0350EDBB2CC5AE5060085A59.html?page=5',\n",
       " 'https://www.trustedshops.de/bewertung/info_XED43E1EC0350EDBB2CC5AE5060085A59.html?page=6',\n",
       " 'https://www.trustedshops.de/bewertung/info_XED43E1EC0350EDBB2CC5AE5060085A59.html?page=7',\n",
       " 'https://www.trustedshops.de/bewertung/info_XED43E1EC0350EDBB2CC5AE5060085A59.html?page=8',\n",
       " 'https://www.trustedshops.de/bewertung/info_XED43E1EC0350EDBB2CC5AE5060085A59.html?page=9',\n",
       " 'https://www.trustedshops.de/bewertung/info_XED43E1EC0350EDBB2CC5AE5060085A59.html?page=10',\n",
       " 'https://www.trustedshops.de/bewertung/info_XED43E1EC0350EDBB2CC5AE5060085A59.html?page=11',\n",
       " 'https://www.trustedshops.de/bewertung/info_XED43E1EC0350EDBB2CC5AE5060085A59.html?page=12',\n",
       " 'https://www.trustedshops.de/bewertung/info_XED43E1EC0350EDBB2CC5AE5060085A59.html?page=13',\n",
       " 'https://www.trustedshops.de/bewertung/info_XED43E1EC0350EDBB2CC5AE5060085A59.html?page=14',\n",
       " 'https://www.trustedshops.de/bewertung/info_XED43E1EC0350EDBB2CC5AE5060085A59.html?page=15',\n",
       " 'https://www.trustedshops.de/bewertung/info_XED43E1EC0350EDBB2CC5AE5060085A59.html?page=16',\n",
       " 'https://www.trustedshops.de/bewertung/info_XED43E1EC0350EDBB2CC5AE5060085A59.html?page=17',\n",
       " 'https://www.trustedshops.de/bewertung/info_XED43E1EC0350EDBB2CC5AE5060085A59.html?page=18',\n",
       " 'https://www.trustedshops.de/bewertung/info_XED43E1EC0350EDBB2CC5AE5060085A59.html?page=19',\n",
       " 'https://www.trustedshops.de/bewertung/info_XED43E1EC0350EDBB2CC5AE5060085A59.html?page=20',\n",
       " 'https://www.trustedshops.de/bewertung/info_XED43E1EC0350EDBB2CC5AE5060085A59.html?page=21',\n",
       " 'https://www.trustedshops.de/bewertung/info_XED43E1EC0350EDBB2CC5AE5060085A59.html?page=22',\n",
       " 'https://www.trustedshops.de/bewertung/info_XED43E1EC0350EDBB2CC5AE5060085A59.html?page=23',\n",
       " 'https://www.trustedshops.de/bewertung/info_XED43E1EC0350EDBB2CC5AE5060085A59.html?page=24',\n",
       " 'https://www.trustedshops.de/bewertung/info_XED43E1EC0350EDBB2CC5AE5060085A59.html?page=25',\n",
       " 'https://www.trustedshops.de/bewertung/info_XED43E1EC0350EDBB2CC5AE5060085A59.html?page=26',\n",
       " 'https://www.trustedshops.de/bewertung/info_XED43E1EC0350EDBB2CC5AE5060085A59.html?page=27',\n",
       " 'https://www.trustedshops.de/bewertung/info_XED43E1EC0350EDBB2CC5AE5060085A59.html?page=28',\n",
       " 'https://www.trustedshops.de/bewertung/info_XED43E1EC0350EDBB2CC5AE5060085A59.html?page=29',\n",
       " 'https://www.trustedshops.de/bewertung/info_XED43E1EC0350EDBB2CC5AE5060085A59.html?page=30',\n",
       " 'https://www.trustedshops.de/bewertung/info_XED43E1EC0350EDBB2CC5AE5060085A59.html?page=31',\n",
       " 'https://www.trustedshops.de/bewertung/info_XED43E1EC0350EDBB2CC5AE5060085A59.html?page=32',\n",
       " 'https://www.trustedshops.de/bewertung/info_XED43E1EC0350EDBB2CC5AE5060085A59.html?page=33',\n",
       " 'https://www.trustedshops.de/bewertung/info_XED43E1EC0350EDBB2CC5AE5060085A59.html?page=34',\n",
       " 'https://www.trustedshops.de/bewertung/info_XED43E1EC0350EDBB2CC5AE5060085A59.html?page=35',\n",
       " 'https://www.trustedshops.de/bewertung/info_XED43E1EC0350EDBB2CC5AE5060085A59.html?page=36',\n",
       " 'https://www.trustedshops.de/bewertung/info_XED43E1EC0350EDBB2CC5AE5060085A59.html?page=37',\n",
       " 'https://www.trustedshops.de/bewertung/info_XED43E1EC0350EDBB2CC5AE5060085A59.html?page=38',\n",
       " 'https://www.trustedshops.de/bewertung/info_XED43E1EC0350EDBB2CC5AE5060085A59.html?page=39',\n",
       " 'https://www.trustedshops.de/bewertung/info_XED43E1EC0350EDBB2CC5AE5060085A59.html?page=40',\n",
       " 'https://www.trustedshops.de/bewertung/info_XED43E1EC0350EDBB2CC5AE5060085A59.html?page=41',\n",
       " 'https://www.trustedshops.de/bewertung/info_XED43E1EC0350EDBB2CC5AE5060085A59.html?page=42',\n",
       " 'https://www.trustedshops.de/bewertung/info_XED43E1EC0350EDBB2CC5AE5060085A59.html?page=43',\n",
       " 'https://www.trustedshops.de/bewertung/info_XED43E1EC0350EDBB2CC5AE5060085A59.html?page=44',\n",
       " 'https://www.trustedshops.de/bewertung/info_XED43E1EC0350EDBB2CC5AE5060085A59.html?page=45',\n",
       " 'https://www.trustedshops.de/bewertung/info_XED43E1EC0350EDBB2CC5AE5060085A59.html?page=46',\n",
       " 'https://www.trustedshops.de/bewertung/info_XED43E1EC0350EDBB2CC5AE5060085A59.html?page=47',\n",
       " 'https://www.trustedshops.de/bewertung/info_XED43E1EC0350EDBB2CC5AE5060085A59.html?page=48',\n",
       " 'https://www.trustedshops.de/bewertung/info_XED43E1EC0350EDBB2CC5AE5060085A59.html?page=49',\n",
       " 'https://www.trustedshops.de/bewertung/info_XED43E1EC0350EDBB2CC5AE5060085A59.html?page=50',\n",
       " 'https://www.trustedshops.de/bewertung/info_XED43E1EC0350EDBB2CC5AE5060085A59.html?page=51',\n",
       " 'https://www.trustedshops.de/bewertung/info_XED43E1EC0350EDBB2CC5AE5060085A59.html?page=52',\n",
       " 'https://www.trustedshops.de/bewertung/info_XED43E1EC0350EDBB2CC5AE5060085A59.html?page=53',\n",
       " 'https://www.trustedshops.de/bewertung/info_XED43E1EC0350EDBB2CC5AE5060085A59.html?page=54',\n",
       " 'https://www.trustedshops.de/bewertung/info_XED43E1EC0350EDBB2CC5AE5060085A59.html?page=55',\n",
       " 'https://www.trustedshops.de/bewertung/info_XED43E1EC0350EDBB2CC5AE5060085A59.html?page=56',\n",
       " 'https://www.trustedshops.de/bewertung/info_XED43E1EC0350EDBB2CC5AE5060085A59.html?page=57',\n",
       " 'https://www.trustedshops.de/bewertung/info_XED43E1EC0350EDBB2CC5AE5060085A59.html?page=58',\n",
       " 'https://www.trustedshops.de/bewertung/info_XED43E1EC0350EDBB2CC5AE5060085A59.html?page=59',\n",
       " 'https://www.trustedshops.de/bewertung/info_XED43E1EC0350EDBB2CC5AE5060085A59.html?page=60',\n",
       " 'https://www.trustedshops.de/bewertung/info_XED43E1EC0350EDBB2CC5AE5060085A59.html?page=61',\n",
       " 'https://www.trustedshops.de/bewertung/info_XED43E1EC0350EDBB2CC5AE5060085A59.html?page=62',\n",
       " 'https://www.trustedshops.de/bewertung/info_XED43E1EC0350EDBB2CC5AE5060085A59.html?page=63',\n",
       " 'https://www.trustedshops.de/bewertung/info_XED43E1EC0350EDBB2CC5AE5060085A59.html?page=64',\n",
       " 'https://www.trustedshops.de/bewertung/info_XED43E1EC0350EDBB2CC5AE5060085A59.html?page=65',\n",
       " 'https://www.trustedshops.de/bewertung/info_XED43E1EC0350EDBB2CC5AE5060085A59.html?page=66',\n",
       " 'https://www.trustedshops.de/bewertung/info_XED43E1EC0350EDBB2CC5AE5060085A59.html?page=67',\n",
       " 'https://www.trustedshops.de/bewertung/info_XED43E1EC0350EDBB2CC5AE5060085A59.html?page=68',\n",
       " 'https://www.trustedshops.de/bewertung/info_XED43E1EC0350EDBB2CC5AE5060085A59.html?page=69',\n",
       " 'https://www.trustedshops.de/bewertung/info_XED43E1EC0350EDBB2CC5AE5060085A59.html?page=70',\n",
       " 'https://www.trustedshops.de/bewertung/info_XED43E1EC0350EDBB2CC5AE5060085A59.html?page=71',\n",
       " 'https://www.trustedshops.de/bewertung/info_XED43E1EC0350EDBB2CC5AE5060085A59.html?page=72',\n",
       " 'https://www.trustedshops.de/bewertung/info_XED43E1EC0350EDBB2CC5AE5060085A59.html?page=73',\n",
       " 'https://www.trustedshops.de/bewertung/info_XED43E1EC0350EDBB2CC5AE5060085A59.html?page=74',\n",
       " 'https://www.trustedshops.de/bewertung/info_XED43E1EC0350EDBB2CC5AE5060085A59.html?page=75',\n",
       " 'https://www.trustedshops.de/bewertung/info_XED43E1EC0350EDBB2CC5AE5060085A59.html?page=76',\n",
       " 'https://www.trustedshops.de/bewertung/info_XED43E1EC0350EDBB2CC5AE5060085A59.html?page=77',\n",
       " 'https://www.trustedshops.de/bewertung/info_XED43E1EC0350EDBB2CC5AE5060085A59.html?page=78',\n",
       " 'https://www.trustedshops.de/bewertung/info_XED43E1EC0350EDBB2CC5AE5060085A59.html?page=79',\n",
       " 'https://www.trustedshops.de/bewertung/info_XED43E1EC0350EDBB2CC5AE5060085A59.html?page=80',\n",
       " 'https://www.trustedshops.de/bewertung/info_XED43E1EC0350EDBB2CC5AE5060085A59.html?page=81',\n",
       " 'https://www.trustedshops.de/bewertung/info_XED43E1EC0350EDBB2CC5AE5060085A59.html?page=82',\n",
       " 'https://www.trustedshops.de/bewertung/info_XED43E1EC0350EDBB2CC5AE5060085A59.html?page=83',\n",
       " 'https://www.trustedshops.de/bewertung/info_XED43E1EC0350EDBB2CC5AE5060085A59.html?page=84',\n",
       " 'https://www.trustedshops.de/bewertung/info_XED43E1EC0350EDBB2CC5AE5060085A59.html?page=85',\n",
       " 'https://www.trustedshops.de/bewertung/info_XED43E1EC0350EDBB2CC5AE5060085A59.html?page=86',\n",
       " 'https://www.trustedshops.de/bewertung/info_XED43E1EC0350EDBB2CC5AE5060085A59.html?page=87',\n",
       " 'https://www.trustedshops.de/bewertung/info_XED43E1EC0350EDBB2CC5AE5060085A59.html?page=88',\n",
       " 'https://www.trustedshops.de/bewertung/info_XED43E1EC0350EDBB2CC5AE5060085A59.html?page=89',\n",
       " 'https://www.trustedshops.de/bewertung/info_XED43E1EC0350EDBB2CC5AE5060085A59.html?page=90',\n",
       " 'https://www.trustedshops.de/bewertung/info_XED43E1EC0350EDBB2CC5AE5060085A59.html?page=91',\n",
       " 'https://www.trustedshops.de/bewertung/info_XED43E1EC0350EDBB2CC5AE5060085A59.html?page=92',\n",
       " 'https://www.trustedshops.de/bewertung/info_XED43E1EC0350EDBB2CC5AE5060085A59.html?page=93',\n",
       " 'https://www.trustedshops.de/bewertung/info_XED43E1EC0350EDBB2CC5AE5060085A59.html?page=94',\n",
       " 'https://www.trustedshops.de/bewertung/info_XED43E1EC0350EDBB2CC5AE5060085A59.html?page=95',\n",
       " 'https://www.trustedshops.de/bewertung/info_XED43E1EC0350EDBB2CC5AE5060085A59.html?page=96',\n",
       " 'https://www.trustedshops.de/bewertung/info_XED43E1EC0350EDBB2CC5AE5060085A59.html?page=97',\n",
       " 'https://www.trustedshops.de/bewertung/info_XED43E1EC0350EDBB2CC5AE5060085A59.html?page=98',\n",
       " 'https://www.trustedshops.de/bewertung/info_XED43E1EC0350EDBB2CC5AE5060085A59.html?page=99',\n",
       " 'https://www.trustedshops.de/bewertung/info_XED43E1EC0350EDBB2CC5AE5060085A59.html?page=100',\n",
       " 'https://www.trustedshops.de/bewertung/info_XED43E1EC0350EDBB2CC5AE5060085A59.html?page=101',\n",
       " 'https://www.trustedshops.de/bewertung/info_XED43E1EC0350EDBB2CC5AE5060085A59.html?page=102',\n",
       " 'https://www.trustedshops.de/bewertung/info_XED43E1EC0350EDBB2CC5AE5060085A59.html?page=103',\n",
       " 'https://www.trustedshops.de/bewertung/info_XED43E1EC0350EDBB2CC5AE5060085A59.html?page=104']"
      ]
     },
     "execution_count": 30,
     "metadata": {},
     "output_type": "execute_result"
    }
   ],
   "source": [
    "def get_all_pages():\n",
    "    page_number = 1\n",
    "    urls = []\n",
    "    \n",
    "    for i in range(104):\n",
    "        i = f\"https://www.trustedshops.de/bewertung/info_XED43E1EC0350EDBB2CC5AE5060085A59.html?page={page_number}\"\n",
    "        page_number = page_number + 1\n",
    "        print(i)\n",
    "        urls.append(i)\n",
    "    \n",
    "    return urls\n",
    "        \n",
    "    \n",
    "get_all_pages()"
   ]
  },
  {
   "cell_type": "code",
   "execution_count": null,
   "metadata": {},
   "outputs": [
    {
     "name": "stdout",
     "output_type": "stream",
     "text": [
      "[<div class=\"sc-d91afe17-1 bgckNg\"><span>Dieter</span><span> </span><span>W.</span></div>, <div class=\"sc-d91afe17-1 bgckNg\"><span>Sigrid</span><span> </span><span>S.</span></div>, <div class=\"sc-d91afe17-1 bgckNg\"><span>Gerd</span><span> </span><span>J.</span></div>, <div class=\"sc-d91afe17-1 bgckNg\"><span>Wiebke</span><span> </span><span>S.</span></div>, <div class=\"sc-d91afe17-1 bgckNg\"><span>Silke</span><span> </span><span>R.</span></div>, <div class=\"sc-d91afe17-1 bgckNg\"><span>Peter</span><span> </span><span>S.</span></div>, <div class=\"sc-d91afe17-1 bgckNg\"><span>Ulrich</span><span> </span><span>L.</span></div>, <div class=\"sc-d91afe17-1 bgckNg\"><span>Heidi</span><span> </span><span>L.</span></div>]\n",
      "--------- \n",
      "14\n"
     ]
    },
    {
     "ename": "NameError",
     "evalue": "name 'Aldiauthors' is not defined",
     "output_type": "error",
     "traceback": [
      "\u001b[1;31m---------------------------------------------------------------------------\u001b[0m",
      "\u001b[1;31mNameError\u001b[0m                                 Traceback (most recent call last)",
      "\u001b[1;32mc:\\Users\\panla\\OneDrive\\Documents\\HRW\\Web_Scraping_with_Python\\Web_scraping_bewertungs.ipynb Cell 9\u001b[0m line \u001b[0;36m<cell line: 20>\u001b[1;34m()\u001b[0m\n\u001b[0;32m     <a href='vscode-notebook-cell:/c%3A/Users/panla/OneDrive/Documents/HRW/Web_Scraping_with_Python/Web_scraping_bewertungs.ipynb#X24sZmlsZQ%3D%3D?line=13'>14</a>\u001b[0m         \u001b[39m#Comment_title = Aldi_author.find(\"h4\", class_ = \"sc-e3ea776e-3 dRqirz\")\u001b[39;00m\n\u001b[0;32m     <a href='vscode-notebook-cell:/c%3A/Users/panla/OneDrive/Documents/HRW/Web_Scraping_with_Python/Web_scraping_bewertungs.ipynb#X24sZmlsZQ%3D%3D?line=14'>15</a>\u001b[0m         \u001b[39m#dauerTag = Aldi_author.find(\"span\", class_ = \"sc-da9d5f14-0 hrYQKA\")\u001b[39;00m\n\u001b[0;32m     <a href='vscode-notebook-cell:/c%3A/Users/panla/OneDrive/Documents/HRW/Web_Scraping_with_Python/Web_scraping_bewertungs.ipynb#X24sZmlsZQ%3D%3D?line=15'>16</a>\u001b[0m         \u001b[39m#comment = Aldi_author.find(\"div\", class_ = \"sc-e3ea776e-1 fDZPyY\")\u001b[39;00m\n\u001b[0;32m     <a href='vscode-notebook-cell:/c%3A/Users/panla/OneDrive/Documents/HRW/Web_Scraping_with_Python/Web_scraping_bewertungs.ipynb#X24sZmlsZQ%3D%3D?line=17'>18</a>\u001b[0m         \u001b[39mprint\u001b[39m(\u001b[39m\"\u001b[39m\u001b[39mNote:\u001b[39m\u001b[39m\"\u001b[39m, rating\u001b[39m.\u001b[39mtext\u001b[39m.\u001b[39mstrip())\n\u001b[1;32m---> <a href='vscode-notebook-cell:/c%3A/Users/panla/OneDrive/Documents/HRW/Web_Scraping_with_Python/Web_scraping_bewertungs.ipynb#X24sZmlsZQ%3D%3D?line=19'>20</a>\u001b[0m parse_author()\n",
      "\u001b[1;32mc:\\Users\\panla\\OneDrive\\Documents\\HRW\\Web_Scraping_with_Python\\Web_scraping_bewertungs.ipynb Cell 9\u001b[0m line \u001b[0;36mparse_author\u001b[1;34m()\u001b[0m\n\u001b[0;32m     <a href='vscode-notebook-cell:/c%3A/Users/panla/OneDrive/Documents/HRW/Web_Scraping_with_Python/Web_scraping_bewertungs.ipynb#X24sZmlsZQ%3D%3D?line=9'>10</a>\u001b[0m \u001b[39mprint\u001b[39m (\u001b[39mlen\u001b[39m(Aldi_author))\n\u001b[0;32m     <a href='vscode-notebook-cell:/c%3A/Users/panla/OneDrive/Documents/HRW/Web_Scraping_with_Python/Web_scraping_bewertungs.ipynb#X24sZmlsZQ%3D%3D?line=11'>12</a>\u001b[0m \u001b[39mfor\u001b[39;00m AldiAuthors \u001b[39min\u001b[39;00m Aldi_author:\n\u001b[1;32m---> <a href='vscode-notebook-cell:/c%3A/Users/panla/OneDrive/Documents/HRW/Web_Scraping_with_Python/Web_scraping_bewertungs.ipynb#X24sZmlsZQ%3D%3D?line=12'>13</a>\u001b[0m     rating \u001b[39m=\u001b[39m Aldiauthors\u001b[39m.\u001b[39mfind(\u001b[39m\"\u001b[39m\u001b[39mdiv\u001b[39m\u001b[39m\"\u001b[39m, class_ \u001b[39m=\u001b[39m \u001b[39m\"\u001b[39m\u001b[39mStarsstyles__Stars-sc-4o1xbr-0 gkGJMG\u001b[39m\u001b[39m\"\u001b[39m)\n\u001b[0;32m     <a href='vscode-notebook-cell:/c%3A/Users/panla/OneDrive/Documents/HRW/Web_Scraping_with_Python/Web_scraping_bewertungs.ipynb#X24sZmlsZQ%3D%3D?line=13'>14</a>\u001b[0m     \u001b[39m#Comment_title = Aldi_author.find(\"h4\", class_ = \"sc-e3ea776e-3 dRqirz\")\u001b[39;00m\n\u001b[0;32m     <a href='vscode-notebook-cell:/c%3A/Users/panla/OneDrive/Documents/HRW/Web_Scraping_with_Python/Web_scraping_bewertungs.ipynb#X24sZmlsZQ%3D%3D?line=14'>15</a>\u001b[0m     \u001b[39m#dauerTag = Aldi_author.find(\"span\", class_ = \"sc-da9d5f14-0 hrYQKA\")\u001b[39;00m\n\u001b[0;32m     <a href='vscode-notebook-cell:/c%3A/Users/panla/OneDrive/Documents/HRW/Web_Scraping_with_Python/Web_scraping_bewertungs.ipynb#X24sZmlsZQ%3D%3D?line=15'>16</a>\u001b[0m     \u001b[39m#comment = Aldi_author.find(\"div\", class_ = \"sc-e3ea776e-1 fDZPyY\")\u001b[39;00m\n\u001b[0;32m     <a href='vscode-notebook-cell:/c%3A/Users/panla/OneDrive/Documents/HRW/Web_Scraping_with_Python/Web_scraping_bewertungs.ipynb#X24sZmlsZQ%3D%3D?line=17'>18</a>\u001b[0m     \u001b[39mprint\u001b[39m(\u001b[39m\"\u001b[39m\u001b[39mNote:\u001b[39m\u001b[39m\"\u001b[39m, rating\u001b[39m.\u001b[39mtext\u001b[39m.\u001b[39mstrip())\n",
      "\u001b[1;31mNameError\u001b[0m: name 'Aldiauthors' is not defined"
     ]
    }
   ],
   "source": [
    "def parse_author():\n",
    "    r=requests.get(\"https://www.trustedshops.de/bewertung/info_XED43E1EC0350EDBB2CC5AE5060085A59.html?page=1\")\n",
    "    sp = BeautifulSoup(r.content, \"html.parser\")\n",
    "    \n",
    "    #print (sp)\n",
    "    Author = soup.find_all(\"div\", class_ = \"sc-d91afe17-1 bgckNg\")\n",
    "    Aldi_author = soup.find_all(\"div\", class_ = \"sc-9a1a1d31-3 kPbiJw\")\n",
    "    print (Author)\n",
    "    print (\"--------- \")\n",
    "    print (len(Aldi_author))\n",
    "    \n",
    "    for AldiAuthors in Aldi_author:\n",
    "        rating = Aldiauthors.find(\"div\", class_ = \"Starsstyles__Stars-sc-4o1xbr-0 gkGJMG\")\n",
    "        #Comment_title = Aldi_author.find(\"h4\", class_ = \"sc-e3ea776e-3 dRqirz\")\n",
    "        #dauerTag = Aldi_author.find(\"span\", class_ = \"sc-da9d5f14-0 hrYQKA\")\n",
    "        #comment = Aldi_author.find(\"div\", class_ = \"sc-e3ea776e-1 fDZPyY\")\n",
    "        \n",
    "        print(\"Note:\", rating.text.strip())\n",
    "    \n",
    "parse_author()"
   ]
  },
  {
   "cell_type": "code",
   "execution_count": null,
   "metadata": {},
   "outputs": [
    {
     "name": "stdout",
     "output_type": "stream",
     "text": [
      "Nom de l'auteur non trouvé.\n",
      "Nom de l'auteur non trouvé.\n",
      "Nom de l'auteur non trouvé.\n",
      "Nom de l'auteur non trouvé.\n",
      "Nom de l'auteur non trouvé.\n",
      "Nom de l'auteur non trouvé.\n",
      "Nom de l'auteur non trouvé.\n",
      "Nom de l'auteur non trouvé.\n",
      "Note non trouvée.\n",
      "Note non trouvée.\n",
      "Note non trouvée.\n",
      "Note non trouvée.\n",
      "Note non trouvée.\n",
      "Note non trouvée.\n",
      "Note non trouvée.\n",
      "Note non trouvée.\n",
      "Note non trouvée.\n",
      "Note non trouvée.\n",
      "Note non trouvée.\n",
      "Note non trouvée.\n",
      "Note non trouvée.\n",
      "Note non trouvée.\n"
     ]
    }
   ],
   "source": [
    "\n",
    "\n",
    "def parse_author():\n",
    "    r = requests.get(\"https://www.trustedshops.de/bewertung/info_XED43E1EC0350EDBB2CC5AE5060085A59.html?page=1\")\n",
    "    soup = BeautifulSoup(r.content, \"html.parser\")\n",
    "\n",
    "    # Pour les auteurs\n",
    "    authors = soup.find_all(\"div\", class_=\"sc-d91afe17-1 bgckNg\")\n",
    "    \n",
    "    for author in authors:\n",
    "        author_name = author.find(\"span\", class_=\"sc-d91afe17-3 dGXjyR\")  # Ajoutez la classe correcte pour le nom de l'auteur\n",
    "        if author_name:\n",
    "            print(\"Auteur:\", author_name.text.strip())\n",
    "        else:\n",
    "            print(\"Nom de l'auteur non trouvé.\")\n",
    "\n",
    "    # Pour les auteurs Aldi\n",
    "    aldi_authors = soup.find_all(\"div\", class_=\"sc-9a1a1d31-3 kPbiJw\")\n",
    "    \n",
    "    for aldi_author in aldi_authors:\n",
    "        rating = aldi_author.find(\"div\", class_=\"Starsstyles__Stars-sc-4o1xbr-0 gkGJMG\")\n",
    "        if rating:\n",
    "            print(\"Note:\", rating.text.strip())\n",
    "        else:\n",
    "            print(\"Note non trouvée.\")\n",
    "\n",
    "parse_author()\n"
   ]
  },
  {
   "cell_type": "code",
   "execution_count": null,
   "metadata": {},
   "outputs": [
    {
     "name": "stdout",
     "output_type": "stream",
     "text": [
      "Nom de l'auteur non trouvé.\n",
      "Nom de l'auteur non trouvé.\n",
      "Nom de l'auteur non trouvé.\n",
      "Nom de l'auteur non trouvé.\n",
      "Nom de l'auteur non trouvé.\n",
      "Nom de l'auteur non trouvé.\n",
      "Nom de l'auteur non trouvé.\n",
      "Nom de l'auteur non trouvé.\n",
      "Note non trouvée.\n",
      "Note non trouvée.\n",
      "Note non trouvée.\n",
      "Note non trouvée.\n",
      "Note non trouvée.\n",
      "Note non trouvée.\n",
      "Note non trouvée.\n",
      "Note non trouvée.\n",
      "Note non trouvée.\n",
      "Note non trouvée.\n",
      "Note non trouvée.\n",
      "Note non trouvée.\n",
      "Note non trouvée.\n",
      "Note non trouvée.\n"
     ]
    }
   ],
   "source": [
    "import requests\n",
    "from bs4 import BeautifulSoup\n",
    "\n",
    "def parse_author():\n",
    "    r = requests.get(\"https://www.trustedshops.de/bewertung/info_XED43E1EC0350EDBB2CC5AE5060085A59.html?page=1\")\n",
    "    soup = BeautifulSoup(r.content, \"html.parser\")\n",
    "\n",
    "    # Pour les auteurs\n",
    "    authors = soup.find_all(\"div\", class_=\"sc-d91afe17-1 bgckNg\")\n",
    "    \n",
    "    for author in authors:\n",
    "        author_name = author.find(\"span\", class_=\"sc-d91afe17-3 dGXjyR\")  # Ajoutez la classe correcte pour le nom de l'auteur\n",
    "        if author_name:\n",
    "            print(\"Auteur:\", author_name.text.strip())\n",
    "        else:\n",
    "            print(\"Nom de l'auteur non trouvé.\")\n",
    "\n",
    "    # Pour les auteurs Aldi\n",
    "    aldi_authors = soup.find_all(\"div\", class_=\"sc-9a1a1d31-3 kPbiJw\")\n",
    "    \n",
    "    for aldi_author in aldi_authors:\n",
    "        rating = aldi_author.find(\"div\", class_=\"Starsstyles__Stars-sc-4o1xbr-0 gkGJMG\")\n",
    "        if rating:\n",
    "            print(\"Note:\", rating.text.strip())\n",
    "        else:\n",
    "            print(\"Note non trouvée.\")\n",
    "\n",
    "parse_author()\n"
   ]
  },
  {
   "cell_type": "code",
   "execution_count": null,
   "metadata": {},
   "outputs": [],
   "source": []
  },
  {
   "cell_type": "code",
   "execution_count": null,
   "metadata": {},
   "outputs": [],
   "source": []
  },
  {
   "cell_type": "code",
   "execution_count": null,
   "metadata": {},
   "outputs": [],
   "source": []
  },
  {
   "cell_type": "code",
   "execution_count": null,
   "metadata": {},
   "outputs": [],
   "source": []
  }
 ],
 "metadata": {
  "kernelspec": {
   "display_name": "base",
   "language": "python",
   "name": "python3"
  },
  "language_info": {
   "codemirror_mode": {
    "name": "ipython",
    "version": 3
   },
   "file_extension": ".py",
   "mimetype": "text/x-python",
   "name": "python",
   "nbconvert_exporter": "python",
   "pygments_lexer": "ipython3",
   "version": "3.9.12"
  },
  "orig_nbformat": 4
 },
 "nbformat": 4,
 "nbformat_minor": 2
}
